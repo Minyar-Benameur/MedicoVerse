{
 "cells": [
  {
   "cell_type": "code",
   "execution_count": 2,
   "metadata": {},
   "outputs": [
    {
     "name": "stdout",
     "output_type": "stream",
     "text": [
      "LLaMA3 Output:\n",
      "Here is the information on the biological targets affected by ligand123:\n",
      "\n",
      "- Main Protease (Mpro)\n",
      "- The main protease (Mpro) is a viral enzyme responsible for proteolytic processing of the viral polyprotein, essential for viral replication and transcription.\n",
      "- Inhibition\n",
      "- 87.4%\n",
      "\n",
      "- Papain-Like Protease (PLpro)\n",
      "- Papain-like protease is a viral enzyme involved in the processing of viral polyproteins and antagonism of the host's innate immune response.\n",
      "- Inhibition\n",
      "- 73.2%\n",
      "\n",
      "- RNA-dependent RNA Polymerase (RdRp)\n",
      "- RNA-dependent RNA polymerase is a viral enzyme responsible for the synthesis of viral RNA, critical for viral replication.\n",
      "- Inhibition\n",
      "- 91.5%\n",
      "\n",
      "- Helicase (Hel)\n",
      "- Helicase is a viral enzyme that unwinds double-stranded RNA, facilitating the synthesis of viral RNA.\n",
      "- Inhibition\n",
      "- 82.1%\n",
      "\n",
      "- Viral RNA Binding Protein (Viral RBP)\n",
      "- Viral RNA binding protein is responsible for the recognition and binding of viral RNA, enhancing viral RNA synthesis and stability.\n",
      "- Elevation\n",
      "- 45.6%\n",
      "\n",
      "- Interleukin-6 (IL-6)\n",
      "- Interleukin-6 is a pro-inflammatory cytokine involved in the host's innate immune response, which can exacerbate inflammation and tissue damage.\n",
      "- Inhibition\n",
      "- 67.3%\n",
      "\n",
      "- Nuclear Factor kappa B (NF-κB)\n",
      "- Nuclear factor kappa B is a transcription factor involved in the regulation of pro-inflammatory genes, which can contribute to inflammation and tissue damage.\n",
      "- Inhibition\n",
      "- 72.5%\n",
      "\n",
      "Note: The percentages are hypothetical and used only for illustration purposes. In a real-world scenario, these values would be determined through experimental assays and molecular dynamics simulations.\n"
     ]
    }
   ],
   "source": [
    "from groq import Groq\n",
    "import matplotlib.pyplot as plt\n",
    "import re\n",
    "import os\n",
    "os.environ['GROQ_API_KEY'] = 'API_KEY'\n",
    "\n",
    "# User customizable prompt for LLaMA3\n",
    "virus_name = input(\"Enter the virus name: \")\n",
    "amino_acid_sequence = input(\"Enter the amino acid sequence of the virus: \")\n",
    "ligand_name = input(\"Enter the ligand name: \")\n",
    "SMILES_structure_sequence = input(\"Enter the SMILES structure sequence of the ligand: \")\n",
    "llama3_user_prompt = f\"\"\"\n",
    "score de l'effet de médicament sur le virus....\n",
    "\"\"\"\n",
    "client = Groq()\n",
    "completion = client.chat.completions.create(\n",
    "    model=\"llama3-70b-8192\",\n",
    "    messages=[\n",
    "        {\n",
    "            \"role\": \"user\",\n",
    "            \"content\": llama3_user_prompt\n",
    "        }\n",
    "    ],\n",
    "    temperature=1,\n",
    "    max_tokens=1024,\n",
    "    top_p=1,\n",
    "    stream=True,\n",
    "    stop=None,\n",
    ")\n",
    "output = \"\"\n",
    "for chunk in completion:\n",
    "    output += chunk.choices[0].delta.content or \"\"\n",
    "print(\"LLaMA3 Output:\")\n",
    "print(output)"
   ]
  }
 ],
 "metadata": {
  "kernelspec": {
   "display_name": "Python 3",
   "language": "python",
   "name": "python3"
  },
  "language_info": {
   "codemirror_mode": {
    "name": "ipython",
    "version": 3
   },
   "file_extension": ".py",
   "mimetype": "text/x-python",
   "name": "python",
   "nbconvert_exporter": "python",
   "pygments_lexer": "ipython3",
   "version": "3.12.2"
  }
 },
 "nbformat": 4,
 "nbformat_minor": 2
}
